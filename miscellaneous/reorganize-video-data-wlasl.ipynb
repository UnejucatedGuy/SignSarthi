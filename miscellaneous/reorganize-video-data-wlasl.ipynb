{
 "cells": [
  {
   "cell_type": "code",
   "execution_count": 1,
   "id": "b61be425",
   "metadata": {
    "_cell_guid": "b1076dfc-b9ad-4769-8c92-a6c4dae69d19",
    "_uuid": "8f2839f25d086af736a60e9eeb907d3b93b6e0e5",
    "papermill": {
     "duration": 0.019173,
     "end_time": "2022-10-24T05:38:09.619585",
     "exception": false,
     "start_time": "2022-10-24T05:38:09.600412",
     "status": "completed"
    },
    "tags": []
   },
   "outputs": [],
   "source": [
    "import json\n",
    "import os\n",
    "import shutil\n",
    "\n",
    "import numpy as np\n",
    "import pandas as pd"
   ]
  },
  {
   "cell_type": "code",
   "execution_count": null,
   "id": "e44b08bb-fc6d-4841-8ece-1ce4c8a0f51b",
   "metadata": {},
   "outputs": [],
   "source": []
  },
  {
   "cell_type": "code",
   "execution_count": null,
   "id": "6d34bc4d-492d-4a29-b3c0-c34d16bba2d0",
   "metadata": {},
   "outputs": [],
   "source": []
  },
  {
   "cell_type": "code",
   "execution_count": null,
   "id": "35750b59-daef-4015-a0fe-7384b0edcf6c",
   "metadata": {},
   "outputs": [],
   "source": []
  },
  {
   "cell_type": "markdown",
   "id": "ad52053d",
   "metadata": {
    "papermill": {
     "duration": 0.003801,
     "end_time": "2022-10-24T05:38:09.627744",
     "exception": false,
     "start_time": "2022-10-24T05:38:09.623943",
     "status": "completed"
    },
    "tags": []
   },
   "source": [
    "# Load Data"
   ]
  },
  {
   "cell_type": "code",
   "execution_count": 3,
   "id": "64f5cad9",
   "metadata": {
    "papermill": {
     "duration": 0.344456,
     "end_time": "2022-10-24T05:38:09.976380",
     "exception": false,
     "start_time": "2022-10-24T05:38:09.631924",
     "status": "completed"
    },
    "tags": []
   },
   "outputs": [],
   "source": [
    "main_path = \"wlasl-processed/\"\n",
    "wlasl_df = pd.read_json(main_path + \"WLASL_v0.3.json\")"
   ]
  },
  {
   "cell_type": "code",
   "execution_count": 4,
   "id": "f3c984f0",
   "metadata": {
    "papermill": {
     "duration": 0.132111,
     "end_time": "2022-10-24T05:38:10.113013",
     "exception": false,
     "start_time": "2022-10-24T05:38:09.980902",
     "status": "completed"
    },
    "tags": []
   },
   "outputs": [
    {
     "data": {
      "text/html": [
       "<div>\n",
       "<style scoped>\n",
       "    .dataframe tbody tr th:only-of-type {\n",
       "        vertical-align: middle;\n",
       "    }\n",
       "\n",
       "    .dataframe tbody tr th {\n",
       "        vertical-align: top;\n",
       "    }\n",
       "\n",
       "    .dataframe thead th {\n",
       "        text-align: right;\n",
       "    }\n",
       "</style>\n",
       "<table border=\"1\" class=\"dataframe\">\n",
       "  <thead>\n",
       "    <tr style=\"text-align: right;\">\n",
       "      <th></th>\n",
       "      <th>gloss</th>\n",
       "      <th>instances</th>\n",
       "    </tr>\n",
       "  </thead>\n",
       "  <tbody>\n",
       "    <tr>\n",
       "      <th>0</th>\n",
       "      <td>book</td>\n",
       "      <td>[{'bbox': [385, 37, 885, 720], 'fps': 25, 'fra...</td>\n",
       "    </tr>\n",
       "    <tr>\n",
       "      <th>1</th>\n",
       "      <td>drink</td>\n",
       "      <td>[{'bbox': [551, 68, 1350, 1080], 'fps': 25, 'f...</td>\n",
       "    </tr>\n",
       "    <tr>\n",
       "      <th>2</th>\n",
       "      <td>computer</td>\n",
       "      <td>[{'bbox': [0, 0, 360, 240], 'fps': 25, 'frame_...</td>\n",
       "    </tr>\n",
       "    <tr>\n",
       "      <th>3</th>\n",
       "      <td>before</td>\n",
       "      <td>[{'bbox': [0, 0, 360, 240], 'fps': 25, 'frame_...</td>\n",
       "    </tr>\n",
       "    <tr>\n",
       "      <th>4</th>\n",
       "      <td>chair</td>\n",
       "      <td>[{'bbox': [0, 0, 360, 240], 'fps': 25, 'frame_...</td>\n",
       "    </tr>\n",
       "  </tbody>\n",
       "</table>\n",
       "</div>"
      ],
      "text/plain": [
       "      gloss                                          instances\n",
       "0      book  [{'bbox': [385, 37, 885, 720], 'fps': 25, 'fra...\n",
       "1     drink  [{'bbox': [551, 68, 1350, 1080], 'fps': 25, 'f...\n",
       "2  computer  [{'bbox': [0, 0, 360, 240], 'fps': 25, 'frame_...\n",
       "3    before  [{'bbox': [0, 0, 360, 240], 'fps': 25, 'frame_...\n",
       "4     chair  [{'bbox': [0, 0, 360, 240], 'fps': 25, 'frame_..."
      ]
     },
     "execution_count": 4,
     "metadata": {},
     "output_type": "execute_result"
    }
   ],
   "source": [
    "wlasl_df.head()"
   ]
  },
  {
   "cell_type": "code",
   "execution_count": 5,
   "id": "40fcb214",
   "metadata": {
    "papermill": {
     "duration": 0.015258,
     "end_time": "2022-10-24T05:38:10.133213",
     "exception": false,
     "start_time": "2022-10-24T05:38:10.117955",
     "status": "completed"
    },
    "tags": []
   },
   "outputs": [
    {
     "data": {
      "text/plain": [
       "(2000, 2)"
      ]
     },
     "execution_count": 5,
     "metadata": {},
     "output_type": "execute_result"
    }
   ],
   "source": [
    "wlasl_df.shape"
   ]
  },
  {
   "cell_type": "markdown",
   "id": "abd2c69c",
   "metadata": {
    "papermill": {
     "duration": 0.004296,
     "end_time": "2022-10-24T05:38:10.142247",
     "exception": false,
     "start_time": "2022-10-24T05:38:10.137951",
     "status": "completed"
    },
    "tags": []
   },
   "source": [
    "# Extract Available Video List from The Dataset"
   ]
  },
  {
   "cell_type": "code",
   "execution_count": 6,
   "id": "af6cb468",
   "metadata": {
    "papermill": {
     "duration": 0.013378,
     "end_time": "2022-10-24T05:38:10.160073",
     "exception": false,
     "start_time": "2022-10-24T05:38:10.146695",
     "status": "completed"
    },
    "tags": []
   },
   "outputs": [],
   "source": [
    "def get_videos_ids(json_list):\n",
    "    \"\"\"\n",
    "    check if the video id is available in the dataset\n",
    "    and return the viedos ids of the current instance\n",
    "    \n",
    "    Args:\n",
    "        json_list: Instance of video metadata.\n",
    "        \n",
    "    Returns:\n",
    "        List of video ids.\n",
    "    \"\"\"\n",
    "    video_ids = []\n",
    "    for ins in json_list:\n",
    "        video_id = ins['video_id']\n",
    "        if os.path.exists(f'{main_path}videos/{video_id}.mp4'):\n",
    "            video_ids.append(video_id)\n",
    "    return video_ids"
   ]
  },
  {
   "cell_type": "code",
   "execution_count": 7,
   "id": "00b6daa2",
   "metadata": {
    "papermill": {
     "duration": 0.130871,
     "end_time": "2022-10-24T05:38:10.295244",
     "exception": false,
     "start_time": "2022-10-24T05:38:10.164373",
     "status": "completed"
    },
    "tags": []
   },
   "outputs": [],
   "source": [
    "with open(main_path+'WLASL_v0.3.json', 'r') as data_file:\n",
    "    json_data = data_file.read()\n",
    "\n",
    "instance_json = json.loads(json_data)"
   ]
  },
  {
   "cell_type": "code",
   "execution_count": 8,
   "id": "59828b90",
   "metadata": {
    "papermill": {
     "duration": 0.039664,
     "end_time": "2022-10-24T05:38:10.343082",
     "exception": false,
     "start_time": "2022-10-24T05:38:10.303418",
     "status": "completed"
    },
    "tags": []
   },
   "outputs": [
    {
     "data": {
      "text/plain": [
       "['69241', '07069', '07068', '07070', '07099', '07074']"
      ]
     },
     "execution_count": 8,
     "metadata": {},
     "output_type": "execute_result"
    }
   ],
   "source": [
    "get_videos_ids(instance_json[0]['instances'])"
   ]
  },
  {
   "cell_type": "code",
   "execution_count": 9,
   "id": "2a346bc6",
   "metadata": {
    "papermill": {
     "duration": 0.015228,
     "end_time": "2022-10-24T05:38:10.363095",
     "exception": false,
     "start_time": "2022-10-24T05:38:10.347867",
     "status": "completed"
    },
    "tags": []
   },
   "outputs": [
    {
     "data": {
      "text/plain": [
       "6"
      ]
     },
     "execution_count": 9,
     "metadata": {},
     "output_type": "execute_result"
    }
   ],
   "source": [
    "len(get_videos_ids(instance_json[0]['instances']))"
   ]
  },
  {
   "cell_type": "code",
   "execution_count": 10,
   "id": "bae85b02",
   "metadata": {
    "papermill": {
     "duration": 16.316857,
     "end_time": "2022-10-24T05:38:26.684602",
     "exception": false,
     "start_time": "2022-10-24T05:38:10.367745",
     "status": "completed"
    },
    "tags": []
   },
   "outputs": [],
   "source": [
    "wlasl_df[\"video_ids\"] = wlasl_df[\"instances\"].apply(get_videos_ids)"
   ]
  },
  {
   "cell_type": "code",
   "execution_count": 19,
   "id": "3358346e",
   "metadata": {
    "papermill": {
     "duration": 7.129218,
     "end_time": "2022-10-24T05:38:33.818885",
     "exception": false,
     "start_time": "2022-10-24T05:38:26.689667",
     "status": "completed"
    },
    "tags": []
   },
   "outputs": [
    {
     "name": "stderr",
     "output_type": "stream",
     "text": [
      "C:\\Users\\ompar\\AppData\\Local\\Temp\\ipykernel_11612\\2877252202.py:3: FutureWarning: Series.__getitem__ treating keys as positions is deprecated. In a future version, integer keys will always be treated as labels (consistent with DataFrame behavior). To access a value by position, use `ser.iloc[pos]`\n",
      "  ids = get_videos_ids(row[1][1])\n",
      "C:\\Users\\ompar\\AppData\\Local\\Temp\\ipykernel_11612\\2877252202.py:4: FutureWarning: Series.__getitem__ treating keys as positions is deprecated. In a future version, integer keys will always be treated as labels (consistent with DataFrame behavior). To access a value by position, use `ser.iloc[pos]`\n",
      "  word = [row[1][0]] * len(ids)\n"
     ]
    }
   ],
   "source": [
    "features_df = pd.DataFrame(columns=['gloss', 'video_id'])\n",
    "for row in wlasl_df.iterrows():\n",
    "    ids = get_videos_ids(row[1][1])\n",
    "    word = [row[1][0]] * len(ids)\n",
    "    df = pd.DataFrame(list(zip(word, ids)), columns=features_df.columns)\n",
    "    features_df = pd.concat([features_df,df])"
   ]
  },
  {
   "cell_type": "code",
   "execution_count": 20,
   "id": "407bfac5",
   "metadata": {
    "papermill": {
     "duration": 0.021504,
     "end_time": "2022-10-24T05:38:33.845428",
     "exception": false,
     "start_time": "2022-10-24T05:38:33.823924",
     "status": "completed"
    },
    "tags": []
   },
   "outputs": [
    {
     "data": {
      "text/html": [
       "<div>\n",
       "<style scoped>\n",
       "    .dataframe tbody tr th:only-of-type {\n",
       "        vertical-align: middle;\n",
       "    }\n",
       "\n",
       "    .dataframe tbody tr th {\n",
       "        vertical-align: top;\n",
       "    }\n",
       "\n",
       "    .dataframe thead th {\n",
       "        text-align: right;\n",
       "    }\n",
       "</style>\n",
       "<table border=\"1\" class=\"dataframe\">\n",
       "  <thead>\n",
       "    <tr style=\"text-align: right;\">\n",
       "      <th></th>\n",
       "      <th>gloss</th>\n",
       "      <th>video_id</th>\n",
       "    </tr>\n",
       "  </thead>\n",
       "  <tbody>\n",
       "    <tr>\n",
       "      <th>0</th>\n",
       "      <td>book</td>\n",
       "      <td>69241</td>\n",
       "    </tr>\n",
       "    <tr>\n",
       "      <th>1</th>\n",
       "      <td>book</td>\n",
       "      <td>07069</td>\n",
       "    </tr>\n",
       "    <tr>\n",
       "      <th>2</th>\n",
       "      <td>book</td>\n",
       "      <td>07068</td>\n",
       "    </tr>\n",
       "    <tr>\n",
       "      <th>3</th>\n",
       "      <td>book</td>\n",
       "      <td>07070</td>\n",
       "    </tr>\n",
       "    <tr>\n",
       "      <th>4</th>\n",
       "      <td>book</td>\n",
       "      <td>07099</td>\n",
       "    </tr>\n",
       "    <tr>\n",
       "      <th>...</th>\n",
       "      <td>...</td>\n",
       "      <td>...</td>\n",
       "    </tr>\n",
       "    <tr>\n",
       "      <th>2</th>\n",
       "      <td>wheelchair</td>\n",
       "      <td>63047</td>\n",
       "    </tr>\n",
       "    <tr>\n",
       "      <th>3</th>\n",
       "      <td>wheelchair</td>\n",
       "      <td>63050</td>\n",
       "    </tr>\n",
       "    <tr>\n",
       "      <th>0</th>\n",
       "      <td>whistle</td>\n",
       "      <td>63186</td>\n",
       "    </tr>\n",
       "    <tr>\n",
       "      <th>1</th>\n",
       "      <td>whistle</td>\n",
       "      <td>63188</td>\n",
       "    </tr>\n",
       "    <tr>\n",
       "      <th>2</th>\n",
       "      <td>whistle</td>\n",
       "      <td>63190</td>\n",
       "    </tr>\n",
       "  </tbody>\n",
       "</table>\n",
       "<p>11980 rows × 2 columns</p>\n",
       "</div>"
      ],
      "text/plain": [
       "         gloss video_id\n",
       "0         book    69241\n",
       "1         book    07069\n",
       "2         book    07068\n",
       "3         book    07070\n",
       "4         book    07099\n",
       "..         ...      ...\n",
       "2   wheelchair    63047\n",
       "3   wheelchair    63050\n",
       "0      whistle    63186\n",
       "1      whistle    63188\n",
       "2      whistle    63190\n",
       "\n",
       "[11980 rows x 2 columns]"
      ]
     },
     "execution_count": 20,
     "metadata": {},
     "output_type": "execute_result"
    }
   ],
   "source": [
    "features_df"
   ]
  },
  {
   "cell_type": "markdown",
   "id": "f64798f0",
   "metadata": {
    "papermill": {
     "duration": 0.005799,
     "end_time": "2022-10-24T05:38:33.856375",
     "exception": false,
     "start_time": "2022-10-24T05:38:33.850576",
     "status": "completed"
    },
    "tags": []
   },
   "source": [
    "# Move Videos to Sub-directory named labels"
   ]
  },
  {
   "cell_type": "code",
   "execution_count": 21,
   "id": "6c274fc3",
   "metadata": {
    "papermill": {
     "duration": 87.768618,
     "end_time": "2022-10-24T05:40:01.629800",
     "exception": false,
     "start_time": "2022-10-24T05:38:33.861182",
     "status": "completed"
    },
    "tags": []
   },
   "outputs": [],
   "source": [
    "def move_videos_to_subdir(dataframe):\n",
    "    for label in dataframe[\"gloss\"].unique():\n",
    "        dst_path = f'videos/{label}'\n",
    "        os.makedirs(dst_path, exist_ok=True)\n",
    "        \n",
    "        for video in dataframe.loc[dataframe[\"gloss\"] == label][\"video_id\"]:\n",
    "            src = f'{main_path}videos/{video}.mp4'\n",
    "            dst = dst_path + f'/{video}.mp4'\n",
    "            shutil.copyfile(src, dst)\n",
    "\n",
    "\n",
    "move_videos_to_subdir(features_df)"
   ]
  },
  {
   "cell_type": "code",
   "execution_count": 13,
   "id": "be46adad",
   "metadata": {
    "execution": {
     "iopub.execute_input": "2022-10-24T05:40:01.642149Z",
     "iopub.status.busy": "2022-10-24T05:40:01.641744Z",
     "iopub.status.idle": "2022-10-24T05:40:01.649966Z",
     "shell.execute_reply": "2022-10-24T05:40:01.649066Z"
    },
    "papermill": {
     "duration": 0.016929,
     "end_time": "2022-10-24T05:40:01.652179",
     "exception": false,
     "start_time": "2022-10-24T05:40:01.635250",
     "status": "completed"
    },
    "tags": []
   },
   "outputs": [
    {
     "data": {
      "text/plain": [
       "['00414.mp4',\n",
       " '00426.mp4',\n",
       " '00421.mp4',\n",
       " '00416.mp4',\n",
       " '65003.mp4',\n",
       " '65002.mp4',\n",
       " '00415.mp4']"
      ]
     },
     "execution_count": 13,
     "metadata": {},
     "output_type": "execute_result"
    }
   ],
   "source": [
    "os.listdir('videos/about/')"
   ]
  },
  {
   "cell_type": "code",
   "execution_count": null,
   "id": "aa235d60",
   "metadata": {
    "papermill": {
     "duration": 0.004817,
     "end_time": "2022-10-24T05:40:01.662085",
     "exception": false,
     "start_time": "2022-10-24T05:40:01.657268",
     "status": "completed"
    },
    "tags": []
   },
   "outputs": [],
   "source": []
  }
 ],
 "metadata": {
  "kernelspec": {
   "display_name": "Python 3 (ipykernel)",
   "language": "python",
   "name": "python3"
  },
  "language_info": {
   "codemirror_mode": {
    "name": "ipython",
    "version": 3
   },
   "file_extension": ".py",
   "mimetype": "text/x-python",
   "name": "python",
   "nbconvert_exporter": "python",
   "pygments_lexer": "ipython3",
   "version": "3.12.1"
  },
  "papermill": {
   "default_parameters": {},
   "duration": 120.897356,
   "end_time": "2022-10-24T05:40:02.389250",
   "environment_variables": {},
   "exception": null,
   "input_path": "__notebook__.ipynb",
   "output_path": "__notebook__.ipynb",
   "parameters": {},
   "start_time": "2022-10-24T05:38:01.491894",
   "version": "2.3.4"
  }
 },
 "nbformat": 4,
 "nbformat_minor": 5
}
