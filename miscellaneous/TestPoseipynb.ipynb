{
 "cells": [
  {
   "cell_type": "code",
   "execution_count": 5,
   "metadata": {},
   "outputs": [],
   "source": [
    "from pose_format.pose import Pose\n",
    "from pose_format.pose_visualizer import PoseVisualizer"
   ]
  },
  {
   "cell_type": "code",
   "execution_count": 2,
   "metadata": {},
   "outputs": [
    {
     "name": "stdout",
     "output_type": "stream",
     "text": [
      "Loading video ...\n",
      "Estimating pose ...\n",
      "Saving to disk ...\n"
     ]
    },
    {
     "name": "stderr",
     "output_type": "stream",
     "text": [
      "\n",
      "0it [00:00, ?it/s]INFO: Created TensorFlow Lite XNNPACK delegate for CPU.\n",
      "\n",
      "1it [00:00,  3.50it/s]\n",
      "3it [00:00,  8.14it/s]\n",
      "5it [00:00, 10.08it/s]\n",
      "7it [00:00, 10.46it/s]\n",
      "9it [00:00, 11.40it/s]\n",
      "11it [00:01, 11.82it/s]\n",
      "13it [00:01,  6.80it/s]\n",
      "15it [00:01,  7.97it/s]\n",
      "17it [00:01,  9.36it/s]\n",
      "19it [00:02, 10.61it/s]\n",
      "21it [00:02, 11.58it/s]\n",
      "23it [00:02, 12.59it/s]\n",
      "25it [00:02, 13.43it/s]\n",
      "27it [00:02, 13.94it/s]\n",
      "29it [00:02, 13.64it/s]\n",
      "31it [00:02, 14.09it/s]\n",
      "33it [00:02, 14.27it/s]\n",
      "35it [00:03, 14.36it/s]\n",
      "37it [00:03, 13.68it/s]\n",
      "39it [00:03, 13.77it/s]\n",
      "41it [00:03, 13.90it/s]\n",
      "43it [00:03, 14.25it/s]\n",
      "45it [00:03, 14.43it/s]\n",
      "47it [00:03, 14.65it/s]\n",
      "49it [00:04, 14.90it/s]\n",
      "51it [00:04, 14.92it/s]\n",
      "53it [00:04, 15.00it/s]\n",
      "55it [00:04, 15.11it/s]\n",
      "57it [00:04, 15.27it/s]\n",
      "59it [00:04, 15.42it/s]\n",
      "61it [00:05, 11.34it/s]\n",
      "63it [00:05, 12.37it/s]\n",
      "65it [00:05, 13.03it/s]\n",
      "67it [00:05, 13.31it/s]\n",
      "69it [00:05, 13.85it/s]\n",
      "71it [00:05, 14.44it/s]\n",
      "73it [00:05, 14.39it/s]\n",
      "75it [00:05, 14.66it/s]\n",
      "77it [00:06, 14.92it/s]\n",
      "79it [00:06, 14.90it/s]\n",
      "81it [00:06, 15.10it/s]\n",
      "83it [00:06, 14.95it/s]\n",
      "85it [00:06, 15.10it/s]\n",
      "87it [00:06, 15.33it/s]\n",
      "89it [00:06, 15.32it/s]\n",
      "91it [00:07, 14.90it/s]\n",
      "93it [00:07, 14.68it/s]\n",
      "95it [00:07, 14.44it/s]\n",
      "97it [00:07, 13.84it/s]\n",
      "99it [00:07, 13.87it/s]\n",
      "101it [00:07, 14.05it/s]\n",
      "103it [00:07, 14.64it/s]\n",
      "105it [00:07, 14.99it/s]\n",
      "107it [00:08, 15.27it/s]\n",
      "109it [00:08, 11.30it/s]\n",
      "111it [00:08, 12.23it/s]\n",
      "113it [00:08, 12.84it/s]\n",
      "115it [00:08, 13.50it/s]\n",
      "117it [00:08, 14.11it/s]\n",
      "119it [00:09, 14.63it/s]\n",
      "121it [00:09, 14.93it/s]\n",
      "123it [00:09, 15.23it/s]\n",
      "125it [00:09, 15.27it/s]\n",
      "127it [00:09, 15.38it/s]\n",
      "129it [00:09, 15.41it/s]\n",
      "131it [00:09, 15.18it/s]\n",
      "133it [00:09, 15.39it/s]\n",
      "133it [00:09, 13.36it/s]\n"
     ]
    }
   ],
   "source": [
    "!video_to_pose --format mediapipe -i example.mp4 -o example.pose"
   ]
  },
  {
   "cell_type": "code",
   "execution_count": 6,
   "metadata": {},
   "outputs": [],
   "source": [
    "data_buffer = open(\"example.pose\", \"rb\").read()\n",
    "testPose = Pose.read(data_buffer)\n",
    "\n",
    "v = PoseVisualizer(testPose)"
   ]
  },
  {
   "cell_type": "code",
   "execution_count": 8,
   "metadata": {},
   "outputs": [
    {
     "name": "stderr",
     "output_type": "stream",
     "text": [
      "0it [00:00, ?it/s]\u001b[32m22:50:14\u001b[0m :: \u001b[1;35m   Helper    \u001b[0m :: \u001b[1;33m DEBUG  \u001b[0m :: \u001b[1;37mNo Custom FFmpeg path provided. Auto-Installing FFmpeg static binaries from GitHub Mirror now. Please wait...\u001b[0m\n"
     ]
    }
   ],
   "source": [
    "v.save_video(\"poseVideo.mp4\", v.draw())"
   ]
  }
 ],
 "metadata": {
  "kernelspec": {
   "display_name": "tfgpupy310",
   "language": "python",
   "name": "python3"
  },
  "language_info": {
   "codemirror_mode": {
    "name": "ipython",
    "version": 3
   },
   "file_extension": ".py",
   "mimetype": "text/x-python",
   "name": "python",
   "nbconvert_exporter": "python",
   "pygments_lexer": "ipython3",
   "version": "3.10.14"
  }
 },
 "nbformat": 4,
 "nbformat_minor": 2
}
